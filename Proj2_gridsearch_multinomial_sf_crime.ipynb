{
  "nbformat": 4,
  "nbformat_minor": 0,
  "metadata": {
    "colab": {
      "name": "Proj2-gridsearch-multinomial-sf-crime.ipynb",
      "provenance": [],
      "authorship_tag": "ABX9TyMofGCvJTCmYYiFN3vuhhsW",
      "include_colab_link": true
    },
    "kernelspec": {
      "name": "python3",
      "display_name": "Python 3"
    }
  },
  "cells": [
    {
      "cell_type": "markdown",
      "metadata": {
        "id": "view-in-github",
        "colab_type": "text"
      },
      "source": [
        "<a href=\"https://colab.research.google.com/github/mounirouadi/Gridsearch-and-Multinomial-Models-with-SF-Crime-Data/blob/main/Proj2_gridsearch_multinomial_sf_crime.ipynb\" target=\"_parent\"><img src=\"https://colab.research.google.com/assets/colab-badge.svg\" alt=\"Open In Colab\"/></a>"
      ]
    },
    {
      "cell_type": "markdown",
      "metadata": {
        "id": "FPNmixvwcxhq"
      },
      "source": [
        "#Necessary lab imports"
      ]
    },
    {
      "cell_type": "code",
      "metadata": {
        "id": "8uyO9uImEasn"
      },
      "source": [
        "import numpy as np\n",
        "import pandas as pd\n",
        "import patsy\n",
        "\n",
        "from sklearn.metrics import classification_report, confusion_matrix, accuracy_score\n",
        "from sklearn.model_selection import train_test_split, GridSearchCV, cross_val_score, cross_val_predict\n",
        "from sklearn.linear_model import LogisticRegression, LogisticRegressionCV\n",
        "\n",
        "\n",
        "import seaborn as sns\n",
        "\n",
        "import matplotlib.pyplot as plt\n",
        "plt.style.use('fivethirtyeight')\n",
        "\n",
        "%matplotlib inline\n",
        "%config InlineBackend.figure_format = 'retina'"
      ],
      "execution_count": 1,
      "outputs": []
    },
    {
      "cell_type": "code",
      "metadata": {
        "id": "3bfF-JZhULVC",
        "outputId": "ab076683-8954-4cfd-dfe7-ea0b648a1d27",
        "colab": {
          "base_uri": "https://localhost:8080/",
          "height": 85
        }
      },
      "source": [
        "!gdown --id 1I_7TRwMgQoxpISpVH0G5sPMUsTdpOhx0"
      ],
      "execution_count": 2,
      "outputs": [
        {
          "output_type": "stream",
          "text": [
            "Downloading...\n",
            "From: https://drive.google.com/uc?id=1I_7TRwMgQoxpISpVH0G5sPMUsTdpOhx0\n",
            "To: /content/sf_crime_train.csv\n",
            "\r0.00B [00:00, ?B/s]\r2.29MB [00:00, 73.4MB/s]\n"
          ],
          "name": "stdout"
        }
      ]
    },
    {
      "cell_type": "markdown",
      "metadata": {
        "id": "tnzmXCO6c5E-"
      },
      "source": [
        "#1. Read in the data"
      ]
    },
    {
      "cell_type": "code",
      "metadata": {
        "id": "BSflbh2MUDPx"
      },
      "source": [
        "crime_csv = 'sf_crime_train.csv'"
      ],
      "execution_count": 3,
      "outputs": []
    },
    {
      "cell_type": "code",
      "metadata": {
        "id": "Ag5fyEILUsJ7",
        "outputId": "79833afe-f24f-4ac6-af6c-08952fa0bf4b",
        "colab": {
          "base_uri": "https://localhost:8080/",
          "height": 289
        }
      },
      "source": [
        "#read in the data using pandas\n",
        "sf_crime = pd.read_csv(crime_csv)\n",
        "sf_crime.drop('DayOfWeek',axis=1,inplace=True)\n",
        "sf_crime.head()"
      ],
      "execution_count": 4,
      "outputs": [
        {
          "output_type": "execute_result",
          "data": {
            "text/html": [
              "<div>\n",
              "<style scoped>\n",
              "    .dataframe tbody tr th:only-of-type {\n",
              "        vertical-align: middle;\n",
              "    }\n",
              "\n",
              "    .dataframe tbody tr th {\n",
              "        vertical-align: top;\n",
              "    }\n",
              "\n",
              "    .dataframe thead th {\n",
              "        text-align: right;\n",
              "    }\n",
              "</style>\n",
              "<table border=\"1\" class=\"dataframe\">\n",
              "  <thead>\n",
              "    <tr style=\"text-align: right;\">\n",
              "      <th></th>\n",
              "      <th>Dates</th>\n",
              "      <th>Category</th>\n",
              "      <th>Descript</th>\n",
              "      <th>PdDistrict</th>\n",
              "      <th>Resolution</th>\n",
              "      <th>Address</th>\n",
              "      <th>X</th>\n",
              "      <th>Y</th>\n",
              "    </tr>\n",
              "  </thead>\n",
              "  <tbody>\n",
              "    <tr>\n",
              "      <th>0</th>\n",
              "      <td>5/13/15 23:53</td>\n",
              "      <td>WARRANTS</td>\n",
              "      <td>WARRANT ARREST</td>\n",
              "      <td>NORTHERN</td>\n",
              "      <td>ARREST, BOOKED</td>\n",
              "      <td>OAK ST / LAGUNA ST</td>\n",
              "      <td>-122.425892</td>\n",
              "      <td>37.774599</td>\n",
              "    </tr>\n",
              "    <tr>\n",
              "      <th>1</th>\n",
              "      <td>5/13/15 23:53</td>\n",
              "      <td>OTHER OFFENSES</td>\n",
              "      <td>TRAFFIC VIOLATION ARREST</td>\n",
              "      <td>NORTHERN</td>\n",
              "      <td>ARREST, BOOKED</td>\n",
              "      <td>OAK ST / LAGUNA ST</td>\n",
              "      <td>-122.425892</td>\n",
              "      <td>37.774599</td>\n",
              "    </tr>\n",
              "    <tr>\n",
              "      <th>2</th>\n",
              "      <td>5/13/15 23:33</td>\n",
              "      <td>OTHER OFFENSES</td>\n",
              "      <td>TRAFFIC VIOLATION ARREST</td>\n",
              "      <td>NORTHERN</td>\n",
              "      <td>ARREST, BOOKED</td>\n",
              "      <td>VANNESS AV / GREENWICH ST</td>\n",
              "      <td>-122.424363</td>\n",
              "      <td>37.800414</td>\n",
              "    </tr>\n",
              "    <tr>\n",
              "      <th>3</th>\n",
              "      <td>5/13/15 23:30</td>\n",
              "      <td>LARCENY/THEFT</td>\n",
              "      <td>GRAND THEFT FROM LOCKED AUTO</td>\n",
              "      <td>NORTHERN</td>\n",
              "      <td>NONE</td>\n",
              "      <td>1500 Block of LOMBARD ST</td>\n",
              "      <td>-122.426995</td>\n",
              "      <td>37.800873</td>\n",
              "    </tr>\n",
              "    <tr>\n",
              "      <th>4</th>\n",
              "      <td>5/13/15 23:30</td>\n",
              "      <td>LARCENY/THEFT</td>\n",
              "      <td>GRAND THEFT FROM LOCKED AUTO</td>\n",
              "      <td>PARK</td>\n",
              "      <td>NONE</td>\n",
              "      <td>100 Block of BRODERICK ST</td>\n",
              "      <td>-122.438738</td>\n",
              "      <td>37.771541</td>\n",
              "    </tr>\n",
              "  </tbody>\n",
              "</table>\n",
              "</div>"
            ],
            "text/plain": [
              "           Dates        Category  ...           X          Y\n",
              "0  5/13/15 23:53        WARRANTS  ... -122.425892  37.774599\n",
              "1  5/13/15 23:53  OTHER OFFENSES  ... -122.425892  37.774599\n",
              "2  5/13/15 23:33  OTHER OFFENSES  ... -122.424363  37.800414\n",
              "3  5/13/15 23:30   LARCENY/THEFT  ... -122.426995  37.800873\n",
              "4  5/13/15 23:30   LARCENY/THEFT  ... -122.438738  37.771541\n",
              "\n",
              "[5 rows x 8 columns]"
            ]
          },
          "metadata": {
            "tags": []
          },
          "execution_count": 4
        }
      ]
    },
    {
      "cell_type": "code",
      "metadata": {
        "id": "hNL-BGLlUtcp",
        "outputId": "5a40969d-f7de-4020-f772-6879b401124f",
        "colab": {
          "base_uri": "https://localhost:8080/",
          "height": 34
        }
      },
      "source": [
        "sf_crime.shape"
      ],
      "execution_count": 5,
      "outputs": [
        {
          "output_type": "execute_result",
          "data": {
            "text/plain": [
              "(18000, 8)"
            ]
          },
          "metadata": {
            "tags": []
          },
          "execution_count": 5
        }
      ]
    },
    {
      "cell_type": "code",
      "metadata": {
        "id": "udwEzIE1VYCw",
        "outputId": "86745653-8063-4641-c716-4e8e8166ec89",
        "colab": {
          "base_uri": "https://localhost:8080/",
          "height": 34
        }
      },
      "source": [
        "#checking if there's any missing value in our dataframe\n",
        "sf_crime.isnull().values.any()"
      ],
      "execution_count": 6,
      "outputs": [
        {
          "output_type": "execute_result",
          "data": {
            "text/plain": [
              "False"
            ]
          },
          "metadata": {
            "tags": []
          },
          "execution_count": 6
        }
      ]
    },
    {
      "cell_type": "markdown",
      "metadata": {
        "id": "_TY0sDciVoJj"
      },
      "source": [
        "the returned value is false, which means there's no missing data (NaN) in our dataframe and we don't need to fix anything."
      ]
    },
    {
      "cell_type": "code",
      "metadata": {
        "id": "D1W1gMk-V0uW",
        "outputId": "31ff9de9-4f5b-46c9-962a-fe531692902e",
        "colab": {
          "base_uri": "https://localhost:8080/",
          "height": 170
        }
      },
      "source": [
        "#checking the datatype of our dataframe\n",
        "sf_crime.dtypes"
      ],
      "execution_count": 7,
      "outputs": [
        {
          "output_type": "execute_result",
          "data": {
            "text/plain": [
              "Dates          object\n",
              "Category       object\n",
              "Descript       object\n",
              "PdDistrict     object\n",
              "Resolution     object\n",
              "Address        object\n",
              "X             float64\n",
              "Y             float64\n",
              "dtype: object"
            ]
          },
          "metadata": {
            "tags": []
          },
          "execution_count": 7
        }
      ]
    },
    {
      "cell_type": "markdown",
      "metadata": {
        "id": "awMCHmikdEeS"
      },
      "source": [
        "#2. Create column for year, month, day, hour, time, and date from 'Dates' column."
      ]
    },
    {
      "cell_type": "markdown",
      "metadata": {
        "id": "51a89Q07WMCJ"
      },
      "source": [
        "Everything looks good, both X and Y are in float64 type, there's nothing to fix anything."
      ]
    },
    {
      "cell_type": "code",
      "metadata": {
        "id": "FAaXsNRLWTqG"
      },
      "source": [
        "sf_crime['Dates'] = pd.to_datetime(sf_crime['Dates'])"
      ],
      "execution_count": 8,
      "outputs": []
    },
    {
      "cell_type": "code",
      "metadata": {
        "id": "b9dZq1I3Yo3z",
        "outputId": "0b9589b9-ad21-4d7b-b1aa-2ad244e017bc",
        "colab": {
          "base_uri": "https://localhost:8080/",
          "height": 179
        }
      },
      "source": [
        "# create a new column for 'Year','Month',and 'Day_of_Week'\n",
        "sf_crime['Year'] = sf_crime['Dates'].dt.year\n",
        "sf_crime['Month'] = sf_crime['Dates'].dt.month\n",
        "sf_crime['Day_of_Week'] = sf_crime['Dates'].dt.dayofweek\n",
        "#check the first couple rows to make sure it's what you want\n",
        "sf_crime.head(2)"
      ],
      "execution_count": 9,
      "outputs": [
        {
          "output_type": "execute_result",
          "data": {
            "text/html": [
              "<div>\n",
              "<style scoped>\n",
              "    .dataframe tbody tr th:only-of-type {\n",
              "        vertical-align: middle;\n",
              "    }\n",
              "\n",
              "    .dataframe tbody tr th {\n",
              "        vertical-align: top;\n",
              "    }\n",
              "\n",
              "    .dataframe thead th {\n",
              "        text-align: right;\n",
              "    }\n",
              "</style>\n",
              "<table border=\"1\" class=\"dataframe\">\n",
              "  <thead>\n",
              "    <tr style=\"text-align: right;\">\n",
              "      <th></th>\n",
              "      <th>Dates</th>\n",
              "      <th>Category</th>\n",
              "      <th>Descript</th>\n",
              "      <th>PdDistrict</th>\n",
              "      <th>Resolution</th>\n",
              "      <th>Address</th>\n",
              "      <th>X</th>\n",
              "      <th>Y</th>\n",
              "      <th>Year</th>\n",
              "      <th>Month</th>\n",
              "      <th>Day_of_Week</th>\n",
              "    </tr>\n",
              "  </thead>\n",
              "  <tbody>\n",
              "    <tr>\n",
              "      <th>0</th>\n",
              "      <td>2015-05-13 23:53:00</td>\n",
              "      <td>WARRANTS</td>\n",
              "      <td>WARRANT ARREST</td>\n",
              "      <td>NORTHERN</td>\n",
              "      <td>ARREST, BOOKED</td>\n",
              "      <td>OAK ST / LAGUNA ST</td>\n",
              "      <td>-122.425892</td>\n",
              "      <td>37.774599</td>\n",
              "      <td>2015</td>\n",
              "      <td>5</td>\n",
              "      <td>2</td>\n",
              "    </tr>\n",
              "    <tr>\n",
              "      <th>1</th>\n",
              "      <td>2015-05-13 23:53:00</td>\n",
              "      <td>OTHER OFFENSES</td>\n",
              "      <td>TRAFFIC VIOLATION ARREST</td>\n",
              "      <td>NORTHERN</td>\n",
              "      <td>ARREST, BOOKED</td>\n",
              "      <td>OAK ST / LAGUNA ST</td>\n",
              "      <td>-122.425892</td>\n",
              "      <td>37.774599</td>\n",
              "      <td>2015</td>\n",
              "      <td>5</td>\n",
              "      <td>2</td>\n",
              "    </tr>\n",
              "  </tbody>\n",
              "</table>\n",
              "</div>"
            ],
            "text/plain": [
              "                Dates        Category  ... Month Day_of_Week\n",
              "0 2015-05-13 23:53:00        WARRANTS  ...     5           2\n",
              "1 2015-05-13 23:53:00  OTHER OFFENSES  ...     5           2\n",
              "\n",
              "[2 rows x 11 columns]"
            ]
          },
          "metadata": {
            "tags": []
          },
          "execution_count": 9
        }
      ]
    },
    {
      "cell_type": "code",
      "metadata": {
        "id": "cdImHRTLZYKB"
      },
      "source": [
        "# create a column for the 'Hour','Time', and 'Date'\n",
        "sf_crime['Hour'] = sf_crime['Dates'].dt.hour\n",
        "sf_crime['Time'] = sf_crime['Dates'].dt.time\n",
        "sf_crime['Date'] = sf_crime['Dates'].dt.date"
      ],
      "execution_count": 10,
      "outputs": []
    },
    {
      "cell_type": "code",
      "metadata": {
        "id": "RjkUVWgpbyFV",
        "outputId": "cf5f9fb8-b1bb-4565-bf33-15de73868722",
        "colab": {
          "base_uri": "https://localhost:8080/",
          "height": 233
        }
      },
      "source": [
        "# Drop the 'Dates' column\n",
        "sf_crime=sf_crime.drop(['Dates'], axis = 1)\n",
        "#check the first couple rows to make sure it's what you want\n",
        "sf_crime.head(2)"
      ],
      "execution_count": 15,
      "outputs": [
        {
          "output_type": "execute_result",
          "data": {
            "text/html": [
              "<div>\n",
              "<style scoped>\n",
              "    .dataframe tbody tr th:only-of-type {\n",
              "        vertical-align: middle;\n",
              "    }\n",
              "\n",
              "    .dataframe tbody tr th {\n",
              "        vertical-align: top;\n",
              "    }\n",
              "\n",
              "    .dataframe thead th {\n",
              "        text-align: right;\n",
              "    }\n",
              "</style>\n",
              "<table border=\"1\" class=\"dataframe\">\n",
              "  <thead>\n",
              "    <tr style=\"text-align: right;\">\n",
              "      <th></th>\n",
              "      <th>Category</th>\n",
              "      <th>Descript</th>\n",
              "      <th>PdDistrict</th>\n",
              "      <th>Resolution</th>\n",
              "      <th>Address</th>\n",
              "      <th>X</th>\n",
              "      <th>Y</th>\n",
              "      <th>Year</th>\n",
              "      <th>Month</th>\n",
              "      <th>Day_of_Week</th>\n",
              "      <th>Hour</th>\n",
              "      <th>Time</th>\n",
              "      <th>Date</th>\n",
              "    </tr>\n",
              "  </thead>\n",
              "  <tbody>\n",
              "    <tr>\n",
              "      <th>0</th>\n",
              "      <td>WARRANTS</td>\n",
              "      <td>WARRANT ARREST</td>\n",
              "      <td>NORTHERN</td>\n",
              "      <td>ARREST, BOOKED</td>\n",
              "      <td>OAK ST / LAGUNA ST</td>\n",
              "      <td>-122.425892</td>\n",
              "      <td>37.774599</td>\n",
              "      <td>2015</td>\n",
              "      <td>5</td>\n",
              "      <td>2</td>\n",
              "      <td>23</td>\n",
              "      <td>23:53:00</td>\n",
              "      <td>2015-05-13</td>\n",
              "    </tr>\n",
              "    <tr>\n",
              "      <th>1</th>\n",
              "      <td>OTHER OFFENSES</td>\n",
              "      <td>TRAFFIC VIOLATION ARREST</td>\n",
              "      <td>NORTHERN</td>\n",
              "      <td>ARREST, BOOKED</td>\n",
              "      <td>OAK ST / LAGUNA ST</td>\n",
              "      <td>-122.425892</td>\n",
              "      <td>37.774599</td>\n",
              "      <td>2015</td>\n",
              "      <td>5</td>\n",
              "      <td>2</td>\n",
              "      <td>23</td>\n",
              "      <td>23:53:00</td>\n",
              "      <td>2015-05-13</td>\n",
              "    </tr>\n",
              "  </tbody>\n",
              "</table>\n",
              "</div>"
            ],
            "text/plain": [
              "         Category                  Descript  ...      Time        Date\n",
              "0        WARRANTS            WARRANT ARREST  ...  23:53:00  2015-05-13\n",
              "1  OTHER OFFENSES  TRAFFIC VIOLATION ARREST  ...  23:53:00  2015-05-13\n",
              "\n",
              "[2 rows x 13 columns]"
            ]
          },
          "metadata": {
            "tags": []
          },
          "execution_count": 15
        }
      ]
    },
    {
      "cell_type": "markdown",
      "metadata": {
        "id": "h2zNzMaYdO26"
      },
      "source": [
        "#3. Validate and clean the data."
      ]
    },
    {
      "cell_type": "code",
      "metadata": {
        "id": "RGFJTRHWcsEL",
        "outputId": "363f2558-1cbf-47b9-b89d-541f25ffd444",
        "colab": {
          "base_uri": "https://localhost:8080/",
          "height": 697
        }
      },
      "source": [
        "sf_crime.value_counts('Category')"
      ],
      "execution_count": 17,
      "outputs": [
        {
          "output_type": "execute_result",
          "data": {
            "text/plain": [
              "Category\n",
              "LARCENY/THEFT                  4885\n",
              "OTHER OFFENSES                 2291\n",
              "NON-CRIMINAL                   2255\n",
              "ASSAULT                        1536\n",
              "VEHICLE THEFT                   967\n",
              "VANDALISM                       877\n",
              "BURGLARY                        732\n",
              "WARRANTS                        728\n",
              "SUSPICIOUS OCC                  592\n",
              "MISSING PERSON                  535\n",
              "DRUG/NARCOTIC                   496\n",
              "ROBBERY                         465\n",
              "FRAUD                           363\n",
              "SECONDARY CODES                 261\n",
              "WEAPON LAWS                     212\n",
              "TRESPASS                        130\n",
              "STOLEN PROPERTY                 111\n",
              "SEX OFFENSES FORCIBLE           103\n",
              "FORGERY/COUNTERFEITING           85\n",
              "DRUNKENNESS                      74\n",
              "KIDNAPPING                       50\n",
              "PROSTITUTION                     44\n",
              "DRIVING UNDER THE INFLUENCE      42\n",
              "DISORDERLY CONDUCT               37\n",
              "ARSON                            35\n",
              "LIQUOR LAWS                      25\n",
              "RUNAWAY                          16\n",
              "EMBEZZLEMENT                     11\n",
              "BRIBERY                          11\n",
              "FAMILY OFFENSES                   5\n",
              "SUICIDE                           5\n",
              "EXTORTION                         4\n",
              "GAMBLING                          4\n",
              "LOITERING                         4\n",
              "SEX OFFENSES NON FORCIBLE         4\n",
              "BAD CHECKS                        2\n",
              "ASSUALT                           2\n",
              "TRESPASSING                       1\n",
              "dtype: int64"
            ]
          },
          "metadata": {
            "tags": []
          },
          "execution_count": 17
        }
      ]
    },
    {
      "cell_type": "code",
      "metadata": {
        "id": "dSyRGsyEjvvk"
      },
      "source": [
        "sf_crime.loc[sf_crime['Category'] == 'ASSUALT','Category'] = 'ASSAULT'"
      ],
      "execution_count": 49,
      "outputs": []
    },
    {
      "cell_type": "code",
      "metadata": {
        "id": "HBpu5Lf4oh0L"
      },
      "source": [
        "sf_crime.loc[sf_crime['Category'] == 'TRESPASSING','Category'] = 'TRESPASS'"
      ],
      "execution_count": 50,
      "outputs": []
    },
    {
      "cell_type": "code",
      "metadata": {
        "id": "VIBWI7Olonpz",
        "outputId": "feed6149-6544-4feb-eaa2-808282179b34",
        "colab": {
          "base_uri": "https://localhost:8080/",
          "height": 153
        }
      },
      "source": [
        "# have a look to see whether you have all the days of the week in your data\n",
        "sf_crime['Day_of_Week'].value_counts()"
      ],
      "execution_count": 51,
      "outputs": [
        {
          "output_type": "execute_result",
          "data": {
            "text/plain": [
              "2    2930\n",
              "4    2733\n",
              "5    2556\n",
              "3    2479\n",
              "6    2456\n",
              "0    2447\n",
              "1    2399\n",
              "Name: Day_of_Week, dtype: int64"
            ]
          },
          "metadata": {
            "tags": []
          },
          "execution_count": 51
        }
      ]
    },
    {
      "cell_type": "code",
      "metadata": {
        "id": "XXOTbCCco-BH",
        "outputId": "1af77d36-8b14-4ce9-8d9a-7b06a133ad59",
        "colab": {
          "base_uri": "https://localhost:8080/",
          "height": 221
        }
      },
      "source": [
        "# have a look at the value counts for 'Descript', 'PdDistrict', and 'Resolution' to make sure it all checks out\n",
        "sf_crime['Descript'].value_counts()"
      ],
      "execution_count": 52,
      "outputs": [
        {
          "output_type": "execute_result",
          "data": {
            "text/plain": [
              "GRAND THEFT FROM LOCKED AUTO                              2127\n",
              "STOLEN AUTOMOBILE                                          625\n",
              "AIDED CASE, MENTAL DISTURBED                               591\n",
              "DRIVERS LICENSE, SUSPENDED OR REVOKED                      589\n",
              "BATTERY                                                    520\n",
              "                                                          ... \n",
              "STOLEN TRAILER                                               1\n",
              "ROBBERY OF A BANK WITH A KNIFE                               1\n",
              "ATTEMPTED KIDNAPPING, ADULT VICTIM                           1\n",
              "INTERFERRING WITH A POLICE OFFICER                           1\n",
              "DRIVING WHILE UNDER THE INFLUENCE OF ALCOHOL, W/INJURY       1\n",
              "Name: Descript, Length: 510, dtype: int64"
            ]
          },
          "metadata": {
            "tags": []
          },
          "execution_count": 52
        }
      ]
    },
    {
      "cell_type": "code",
      "metadata": {
        "id": "IZYiDrE6pC6y",
        "outputId": "e3a20ca9-8965-499e-87fd-7227aa0815d7",
        "colab": {
          "base_uri": "https://localhost:8080/",
          "height": 204
        }
      },
      "source": [
        "sf_crime['PdDistrict'].value_counts()"
      ],
      "execution_count": 53,
      "outputs": [
        {
          "output_type": "execute_result",
          "data": {
            "text/plain": [
              "SOUTHERN      3287\n",
              "NORTHERN      2250\n",
              "CENTRAL       2206\n",
              "MISSION       2118\n",
              "BAYVIEW       1678\n",
              "INGLESIDE     1628\n",
              "TARAVAL       1426\n",
              "TENDERLOIN    1327\n",
              "RICHMOND      1101\n",
              "PARK           979\n",
              "Name: PdDistrict, dtype: int64"
            ]
          },
          "metadata": {
            "tags": []
          },
          "execution_count": 53
        }
      ]
    },
    {
      "cell_type": "code",
      "metadata": {
        "id": "pOcgpJf2pGiP",
        "outputId": "d805dac9-7f0c-4022-af8c-e71d0af239b6",
        "colab": {
          "base_uri": "https://localhost:8080/",
          "height": 204
        }
      },
      "source": [
        "sf_crime['Resolution'].value_counts()"
      ],
      "execution_count": 54,
      "outputs": [
        {
          "output_type": "execute_result",
          "data": {
            "text/plain": [
              "NONE                                      12862\n",
              "ARREST, BOOKED                             4455\n",
              "UNFOUNDED                                   367\n",
              "ARREST, CITED                               100\n",
              "JUVENILE BOOKED                              94\n",
              "EXCEPTIONAL CLEARANCE                        58\n",
              "PSYCHOPATHIC CASE                            28\n",
              "LOCATED                                      25\n",
              "CLEARED-CONTACT JUVENILE FOR MORE INFO       10\n",
              "NOT PROSECUTED                                1\n",
              "Name: Resolution, dtype: int64"
            ]
          },
          "metadata": {
            "tags": []
          },
          "execution_count": 54
        }
      ]
    },
    {
      "cell_type": "code",
      "metadata": {
        "id": "1LkzN5V7pJjG",
        "outputId": "b8e0bc72-5580-4b33-cca6-528cdc8d0a07",
        "colab": {
          "base_uri": "https://localhost:8080/",
          "height": 297
        }
      },
      "source": [
        "# use .describe() to see whether the location coordinates seem appropriate\n",
        "sf_crime.describe()"
      ],
      "execution_count": 55,
      "outputs": [
        {
          "output_type": "execute_result",
          "data": {
            "text/html": [
              "<div>\n",
              "<style scoped>\n",
              "    .dataframe tbody tr th:only-of-type {\n",
              "        vertical-align: middle;\n",
              "    }\n",
              "\n",
              "    .dataframe tbody tr th {\n",
              "        vertical-align: top;\n",
              "    }\n",
              "\n",
              "    .dataframe thead th {\n",
              "        text-align: right;\n",
              "    }\n",
              "</style>\n",
              "<table border=\"1\" class=\"dataframe\">\n",
              "  <thead>\n",
              "    <tr style=\"text-align: right;\">\n",
              "      <th></th>\n",
              "      <th>X</th>\n",
              "      <th>Y</th>\n",
              "      <th>Year</th>\n",
              "      <th>Month</th>\n",
              "      <th>Day_of_Week</th>\n",
              "      <th>Hour</th>\n",
              "    </tr>\n",
              "  </thead>\n",
              "  <tbody>\n",
              "    <tr>\n",
              "      <th>count</th>\n",
              "      <td>18000.000000</td>\n",
              "      <td>18000.000000</td>\n",
              "      <td>18000.0</td>\n",
              "      <td>18000.000000</td>\n",
              "      <td>18000.000000</td>\n",
              "      <td>18000.000000</td>\n",
              "    </tr>\n",
              "    <tr>\n",
              "      <th>mean</th>\n",
              "      <td>-122.423639</td>\n",
              "      <td>37.768466</td>\n",
              "      <td>2015.0</td>\n",
              "      <td>3.489944</td>\n",
              "      <td>3.008000</td>\n",
              "      <td>13.646833</td>\n",
              "    </tr>\n",
              "    <tr>\n",
              "      <th>std</th>\n",
              "      <td>0.026532</td>\n",
              "      <td>0.024391</td>\n",
              "      <td>0.0</td>\n",
              "      <td>0.868554</td>\n",
              "      <td>1.966564</td>\n",
              "      <td>6.539040</td>\n",
              "    </tr>\n",
              "    <tr>\n",
              "      <th>min</th>\n",
              "      <td>-122.513642</td>\n",
              "      <td>37.708154</td>\n",
              "      <td>2015.0</td>\n",
              "      <td>2.000000</td>\n",
              "      <td>0.000000</td>\n",
              "      <td>0.000000</td>\n",
              "    </tr>\n",
              "    <tr>\n",
              "      <th>25%</th>\n",
              "      <td>-122.434199</td>\n",
              "      <td>37.753838</td>\n",
              "      <td>2015.0</td>\n",
              "      <td>3.000000</td>\n",
              "      <td>1.000000</td>\n",
              "      <td>10.000000</td>\n",
              "    </tr>\n",
              "    <tr>\n",
              "      <th>50%</th>\n",
              "      <td>-122.416949</td>\n",
              "      <td>37.775608</td>\n",
              "      <td>2015.0</td>\n",
              "      <td>3.000000</td>\n",
              "      <td>3.000000</td>\n",
              "      <td>15.000000</td>\n",
              "    </tr>\n",
              "    <tr>\n",
              "      <th>75%</th>\n",
              "      <td>-122.406539</td>\n",
              "      <td>37.785390</td>\n",
              "      <td>2015.0</td>\n",
              "      <td>4.000000</td>\n",
              "      <td>5.000000</td>\n",
              "      <td>19.000000</td>\n",
              "    </tr>\n",
              "    <tr>\n",
              "      <th>max</th>\n",
              "      <td>-122.365565</td>\n",
              "      <td>37.819923</td>\n",
              "      <td>2015.0</td>\n",
              "      <td>5.000000</td>\n",
              "      <td>6.000000</td>\n",
              "      <td>23.000000</td>\n",
              "    </tr>\n",
              "  </tbody>\n",
              "</table>\n",
              "</div>"
            ],
            "text/plain": [
              "                  X             Y  ...   Day_of_Week          Hour\n",
              "count  18000.000000  18000.000000  ...  18000.000000  18000.000000\n",
              "mean    -122.423639     37.768466  ...      3.008000     13.646833\n",
              "std        0.026532      0.024391  ...      1.966564      6.539040\n",
              "min     -122.513642     37.708154  ...      0.000000      0.000000\n",
              "25%     -122.434199     37.753838  ...      1.000000     10.000000\n",
              "50%     -122.416949     37.775608  ...      3.000000     15.000000\n",
              "75%     -122.406539     37.785390  ...      5.000000     19.000000\n",
              "max     -122.365565     37.819923  ...      6.000000     23.000000\n",
              "\n",
              "[8 rows x 6 columns]"
            ]
          },
          "metadata": {
            "tags": []
          },
          "execution_count": 55
        }
      ]
    },
    {
      "cell_type": "markdown",
      "metadata": {
        "id": "tQbYeu_XpSSK"
      },
      "source": [
        "#4. Set up a target and predictor matrix for predicting violent crime vs. non-violent crime vs. non-crimes."
      ]
    },
    {
      "cell_type": "code",
      "metadata": {
        "id": "Ikvaj11spN7r"
      },
      "source": [
        "NVC = ['BAD CHECKS','BRIBERY','DRUG/NARCOTIC','DRUNKENNESS',\n",
        "     'EMBEZZLEMENT','FORGERY/COUNTERFEITING','FRAUD',\n",
        "     'GAMBLING','LIQUOR','LOITERING','TRESPASS','OTHER OFFENSES']\n",
        "\n",
        "NOT_C = ['NON-CRIMINAL','RUNAWAY','SECONDARY CODES','SUSPICIOUS OCC','WARRANTS']\n",
        "\n",
        "#use a list comprehension to get all the categories in sf_crime['Category'].unique() that are NOT in the lists above\n",
        "VC = [crime for crime in sf_crime['Category'].unique() if crime not in NVC+NOT_C]"
      ],
      "execution_count": 57,
      "outputs": []
    },
    {
      "cell_type": "code",
      "metadata": {
        "id": "0Ws02QS5qcXF"
      },
      "source": [
        "#add a column called 'Type' into your dataframe that stores whether the observation was:\n",
        "#Non-Violent, Violent, or Non-Crime\n",
        "#use .map()!\n",
        "def typecrime(x):\n",
        "    if x in NOT_C: return 'NOT_CRIMINAL'\n",
        "    if x in NVC: return 'NON-VIOLENT'\n",
        "    if x in VC: return 'VIOLENT_CRIME'\n",
        "\n",
        "sf_crime['Type']= sf_crime['Category'].map(typecrime)"
      ],
      "execution_count": 58,
      "outputs": []
    },
    {
      "cell_type": "code",
      "metadata": {
        "id": "Ex-9HTYNqp32",
        "outputId": "c49b813d-79a4-43c6-83e3-9fd968ca5328",
        "colab": {
          "base_uri": "https://localhost:8080/",
          "height": 462
        }
      },
      "source": [
        "sf_crime.head()"
      ],
      "execution_count": 59,
      "outputs": [
        {
          "output_type": "execute_result",
          "data": {
            "text/html": [
              "<div>\n",
              "<style scoped>\n",
              "    .dataframe tbody tr th:only-of-type {\n",
              "        vertical-align: middle;\n",
              "    }\n",
              "\n",
              "    .dataframe tbody tr th {\n",
              "        vertical-align: top;\n",
              "    }\n",
              "\n",
              "    .dataframe thead th {\n",
              "        text-align: right;\n",
              "    }\n",
              "</style>\n",
              "<table border=\"1\" class=\"dataframe\">\n",
              "  <thead>\n",
              "    <tr style=\"text-align: right;\">\n",
              "      <th></th>\n",
              "      <th>Category</th>\n",
              "      <th>Descript</th>\n",
              "      <th>PdDistrict</th>\n",
              "      <th>Resolution</th>\n",
              "      <th>Address</th>\n",
              "      <th>X</th>\n",
              "      <th>Y</th>\n",
              "      <th>Year</th>\n",
              "      <th>Month</th>\n",
              "      <th>Day_of_Week</th>\n",
              "      <th>Hour</th>\n",
              "      <th>Time</th>\n",
              "      <th>Date</th>\n",
              "      <th>Type</th>\n",
              "    </tr>\n",
              "  </thead>\n",
              "  <tbody>\n",
              "    <tr>\n",
              "      <th>0</th>\n",
              "      <td>WARRANTS</td>\n",
              "      <td>WARRANT ARREST</td>\n",
              "      <td>NORTHERN</td>\n",
              "      <td>ARREST, BOOKED</td>\n",
              "      <td>OAK ST / LAGUNA ST</td>\n",
              "      <td>-122.425892</td>\n",
              "      <td>37.774599</td>\n",
              "      <td>2015</td>\n",
              "      <td>5</td>\n",
              "      <td>2</td>\n",
              "      <td>23</td>\n",
              "      <td>23:53:00</td>\n",
              "      <td>2015-05-13</td>\n",
              "      <td>NOT_CRIMINAL</td>\n",
              "    </tr>\n",
              "    <tr>\n",
              "      <th>1</th>\n",
              "      <td>OTHER OFFENSES</td>\n",
              "      <td>TRAFFIC VIOLATION ARREST</td>\n",
              "      <td>NORTHERN</td>\n",
              "      <td>ARREST, BOOKED</td>\n",
              "      <td>OAK ST / LAGUNA ST</td>\n",
              "      <td>-122.425892</td>\n",
              "      <td>37.774599</td>\n",
              "      <td>2015</td>\n",
              "      <td>5</td>\n",
              "      <td>2</td>\n",
              "      <td>23</td>\n",
              "      <td>23:53:00</td>\n",
              "      <td>2015-05-13</td>\n",
              "      <td>NON-VIOLENT</td>\n",
              "    </tr>\n",
              "    <tr>\n",
              "      <th>2</th>\n",
              "      <td>OTHER OFFENSES</td>\n",
              "      <td>TRAFFIC VIOLATION ARREST</td>\n",
              "      <td>NORTHERN</td>\n",
              "      <td>ARREST, BOOKED</td>\n",
              "      <td>VANNESS AV / GREENWICH ST</td>\n",
              "      <td>-122.424363</td>\n",
              "      <td>37.800414</td>\n",
              "      <td>2015</td>\n",
              "      <td>5</td>\n",
              "      <td>2</td>\n",
              "      <td>23</td>\n",
              "      <td>23:33:00</td>\n",
              "      <td>2015-05-13</td>\n",
              "      <td>NON-VIOLENT</td>\n",
              "    </tr>\n",
              "    <tr>\n",
              "      <th>3</th>\n",
              "      <td>LARCENY/THEFT</td>\n",
              "      <td>GRAND THEFT FROM LOCKED AUTO</td>\n",
              "      <td>NORTHERN</td>\n",
              "      <td>NONE</td>\n",
              "      <td>1500 Block of LOMBARD ST</td>\n",
              "      <td>-122.426995</td>\n",
              "      <td>37.800873</td>\n",
              "      <td>2015</td>\n",
              "      <td>5</td>\n",
              "      <td>2</td>\n",
              "      <td>23</td>\n",
              "      <td>23:30:00</td>\n",
              "      <td>2015-05-13</td>\n",
              "      <td>VIOLENT_CRIME</td>\n",
              "    </tr>\n",
              "    <tr>\n",
              "      <th>4</th>\n",
              "      <td>LARCENY/THEFT</td>\n",
              "      <td>GRAND THEFT FROM LOCKED AUTO</td>\n",
              "      <td>PARK</td>\n",
              "      <td>NONE</td>\n",
              "      <td>100 Block of BRODERICK ST</td>\n",
              "      <td>-122.438738</td>\n",
              "      <td>37.771541</td>\n",
              "      <td>2015</td>\n",
              "      <td>5</td>\n",
              "      <td>2</td>\n",
              "      <td>23</td>\n",
              "      <td>23:30:00</td>\n",
              "      <td>2015-05-13</td>\n",
              "      <td>VIOLENT_CRIME</td>\n",
              "    </tr>\n",
              "  </tbody>\n",
              "</table>\n",
              "</div>"
            ],
            "text/plain": [
              "         Category                      Descript  ...        Date           Type\n",
              "0        WARRANTS                WARRANT ARREST  ...  2015-05-13   NOT_CRIMINAL\n",
              "1  OTHER OFFENSES      TRAFFIC VIOLATION ARREST  ...  2015-05-13    NON-VIOLENT\n",
              "2  OTHER OFFENSES      TRAFFIC VIOLATION ARREST  ...  2015-05-13    NON-VIOLENT\n",
              "3   LARCENY/THEFT  GRAND THEFT FROM LOCKED AUTO  ...  2015-05-13  VIOLENT_CRIME\n",
              "4   LARCENY/THEFT  GRAND THEFT FROM LOCKED AUTO  ...  2015-05-13  VIOLENT_CRIME\n",
              "\n",
              "[5 rows x 14 columns]"
            ]
          },
          "metadata": {
            "tags": []
          },
          "execution_count": 59
        }
      ]
    },
    {
      "cell_type": "code",
      "metadata": {
        "id": "GrUeSq_4qrNa",
        "outputId": "fe904462-806a-4549-e6c5-562da75cbc8e",
        "colab": {
          "base_uri": "https://localhost:8080/",
          "height": 34
        }
      },
      "source": [
        "#find the baseline accuracy:\n",
        "sf_crime['Type'].value_counts().max() / len(sf_crime)"
      ],
      "execution_count": 60,
      "outputs": [
        {
          "output_type": "execute_result",
          "data": {
            "text/plain": [
              "0.5931111111111111"
            ]
          },
          "metadata": {
            "tags": []
          },
          "execution_count": 60
        }
      ]
    },
    {
      "cell_type": "code",
      "metadata": {
        "id": "ner_d-ZLq8Ow"
      },
      "source": [
        "#create a target array with 'Type'\n",
        "#create a predictor matrix with 'Day_of_Week','Month','Year','PdDistrict','Hour', and 'Resolution'\n",
        "y = sf_crime['Type']\n",
        "X = sf_crime[['Day_of_Week','Month','Year','PdDistrict','Hour','Resolution']]"
      ],
      "execution_count": 61,
      "outputs": []
    },
    {
      "cell_type": "code",
      "metadata": {
        "id": "xfjM--qurBR8",
        "outputId": "f6f8651f-0e07-44c5-b72c-0d0ad780f819",
        "colab": {
          "base_uri": "https://localhost:8080/",
          "height": 258
        }
      },
      "source": [
        "#use pd.get_dummies() to dummify your categorical variables\n",
        "#remember to drop a column!\n",
        "X = pd.get_dummies(X,drop_first=True)\n",
        "X.head()"
      ],
      "execution_count": 62,
      "outputs": [
        {
          "output_type": "execute_result",
          "data": {
            "text/html": [
              "<div>\n",
              "<style scoped>\n",
              "    .dataframe tbody tr th:only-of-type {\n",
              "        vertical-align: middle;\n",
              "    }\n",
              "\n",
              "    .dataframe tbody tr th {\n",
              "        vertical-align: top;\n",
              "    }\n",
              "\n",
              "    .dataframe thead th {\n",
              "        text-align: right;\n",
              "    }\n",
              "</style>\n",
              "<table border=\"1\" class=\"dataframe\">\n",
              "  <thead>\n",
              "    <tr style=\"text-align: right;\">\n",
              "      <th></th>\n",
              "      <th>Day_of_Week</th>\n",
              "      <th>Month</th>\n",
              "      <th>Year</th>\n",
              "      <th>Hour</th>\n",
              "      <th>PdDistrict_CENTRAL</th>\n",
              "      <th>PdDistrict_INGLESIDE</th>\n",
              "      <th>PdDistrict_MISSION</th>\n",
              "      <th>PdDistrict_NORTHERN</th>\n",
              "      <th>PdDistrict_PARK</th>\n",
              "      <th>PdDistrict_RICHMOND</th>\n",
              "      <th>PdDistrict_SOUTHERN</th>\n",
              "      <th>PdDistrict_TARAVAL</th>\n",
              "      <th>PdDistrict_TENDERLOIN</th>\n",
              "      <th>Resolution_ARREST, CITED</th>\n",
              "      <th>Resolution_CLEARED-CONTACT JUVENILE FOR MORE INFO</th>\n",
              "      <th>Resolution_EXCEPTIONAL CLEARANCE</th>\n",
              "      <th>Resolution_JUVENILE BOOKED</th>\n",
              "      <th>Resolution_LOCATED</th>\n",
              "      <th>Resolution_NONE</th>\n",
              "      <th>Resolution_NOT PROSECUTED</th>\n",
              "      <th>Resolution_PSYCHOPATHIC CASE</th>\n",
              "      <th>Resolution_UNFOUNDED</th>\n",
              "    </tr>\n",
              "  </thead>\n",
              "  <tbody>\n",
              "    <tr>\n",
              "      <th>0</th>\n",
              "      <td>2</td>\n",
              "      <td>5</td>\n",
              "      <td>2015</td>\n",
              "      <td>23</td>\n",
              "      <td>0</td>\n",
              "      <td>0</td>\n",
              "      <td>0</td>\n",
              "      <td>1</td>\n",
              "      <td>0</td>\n",
              "      <td>0</td>\n",
              "      <td>0</td>\n",
              "      <td>0</td>\n",
              "      <td>0</td>\n",
              "      <td>0</td>\n",
              "      <td>0</td>\n",
              "      <td>0</td>\n",
              "      <td>0</td>\n",
              "      <td>0</td>\n",
              "      <td>0</td>\n",
              "      <td>0</td>\n",
              "      <td>0</td>\n",
              "      <td>0</td>\n",
              "    </tr>\n",
              "    <tr>\n",
              "      <th>1</th>\n",
              "      <td>2</td>\n",
              "      <td>5</td>\n",
              "      <td>2015</td>\n",
              "      <td>23</td>\n",
              "      <td>0</td>\n",
              "      <td>0</td>\n",
              "      <td>0</td>\n",
              "      <td>1</td>\n",
              "      <td>0</td>\n",
              "      <td>0</td>\n",
              "      <td>0</td>\n",
              "      <td>0</td>\n",
              "      <td>0</td>\n",
              "      <td>0</td>\n",
              "      <td>0</td>\n",
              "      <td>0</td>\n",
              "      <td>0</td>\n",
              "      <td>0</td>\n",
              "      <td>0</td>\n",
              "      <td>0</td>\n",
              "      <td>0</td>\n",
              "      <td>0</td>\n",
              "    </tr>\n",
              "    <tr>\n",
              "      <th>2</th>\n",
              "      <td>2</td>\n",
              "      <td>5</td>\n",
              "      <td>2015</td>\n",
              "      <td>23</td>\n",
              "      <td>0</td>\n",
              "      <td>0</td>\n",
              "      <td>0</td>\n",
              "      <td>1</td>\n",
              "      <td>0</td>\n",
              "      <td>0</td>\n",
              "      <td>0</td>\n",
              "      <td>0</td>\n",
              "      <td>0</td>\n",
              "      <td>0</td>\n",
              "      <td>0</td>\n",
              "      <td>0</td>\n",
              "      <td>0</td>\n",
              "      <td>0</td>\n",
              "      <td>0</td>\n",
              "      <td>0</td>\n",
              "      <td>0</td>\n",
              "      <td>0</td>\n",
              "    </tr>\n",
              "    <tr>\n",
              "      <th>3</th>\n",
              "      <td>2</td>\n",
              "      <td>5</td>\n",
              "      <td>2015</td>\n",
              "      <td>23</td>\n",
              "      <td>0</td>\n",
              "      <td>0</td>\n",
              "      <td>0</td>\n",
              "      <td>1</td>\n",
              "      <td>0</td>\n",
              "      <td>0</td>\n",
              "      <td>0</td>\n",
              "      <td>0</td>\n",
              "      <td>0</td>\n",
              "      <td>0</td>\n",
              "      <td>0</td>\n",
              "      <td>0</td>\n",
              "      <td>0</td>\n",
              "      <td>0</td>\n",
              "      <td>1</td>\n",
              "      <td>0</td>\n",
              "      <td>0</td>\n",
              "      <td>0</td>\n",
              "    </tr>\n",
              "    <tr>\n",
              "      <th>4</th>\n",
              "      <td>2</td>\n",
              "      <td>5</td>\n",
              "      <td>2015</td>\n",
              "      <td>23</td>\n",
              "      <td>0</td>\n",
              "      <td>0</td>\n",
              "      <td>0</td>\n",
              "      <td>0</td>\n",
              "      <td>1</td>\n",
              "      <td>0</td>\n",
              "      <td>0</td>\n",
              "      <td>0</td>\n",
              "      <td>0</td>\n",
              "      <td>0</td>\n",
              "      <td>0</td>\n",
              "      <td>0</td>\n",
              "      <td>0</td>\n",
              "      <td>0</td>\n",
              "      <td>1</td>\n",
              "      <td>0</td>\n",
              "      <td>0</td>\n",
              "      <td>0</td>\n",
              "    </tr>\n",
              "  </tbody>\n",
              "</table>\n",
              "</div>"
            ],
            "text/plain": [
              "   Day_of_Week  Month  ...  Resolution_PSYCHOPATHIC CASE  Resolution_UNFOUNDED\n",
              "0            2      5  ...                             0                     0\n",
              "1            2      5  ...                             0                     0\n",
              "2            2      5  ...                             0                     0\n",
              "3            2      5  ...                             0                     0\n",
              "4            2      5  ...                             0                     0\n",
              "\n",
              "[5 rows x 22 columns]"
            ]
          },
          "metadata": {
            "tags": []
          },
          "execution_count": 62
        }
      ]
    },
    {
      "cell_type": "markdown",
      "metadata": {
        "id": "s3CVTqarrOi1"
      },
      "source": [
        "#5. Create a train / test / split and standardize the predictor matrices"
      ]
    },
    {
      "cell_type": "code",
      "metadata": {
        "id": "_z9_OAMsrLly"
      },
      "source": [
        "#create a 50/50 train test split; \n",
        "#stratify based on your target variable\n",
        "#use a random state of 2018\n",
        "X_test, X_train, y_test, y_train = train_test_split(X, y, test_size=0.5, stratify=y, random_state=2018)"
      ],
      "execution_count": 63,
      "outputs": []
    },
    {
      "cell_type": "code",
      "metadata": {
        "id": "i8M33tybriV1"
      },
      "source": [
        "#standardise your predictor matrices\n",
        "from sklearn.preprocessing import StandardScaler\n",
        "ss=StandardScaler()\n",
        "ss.fit(X_train)\n",
        "X_train_ss = ss.transform(X_train)\n",
        "X_test_ss = ss.transform(X_test)"
      ],
      "execution_count": 64,
      "outputs": []
    },
    {
      "cell_type": "markdown",
      "metadata": {
        "id": "QCxesQQ4roGF"
      },
      "source": [
        "#6. Create a basic Logistic Regression model and use cross_val_score to assess its performance on your training data"
      ]
    },
    {
      "cell_type": "code",
      "metadata": {
        "id": "1uf9XfVarjxh",
        "outputId": "bac90520-61c7-480a-971c-17d1dbedca56",
        "colab": {
          "base_uri": "https://localhost:8080/",
          "height": 34
        }
      },
      "source": [
        "#create a default Logistic Regression model and find its mean cross-validated accuracy with your training data\n",
        "#use 5 cross-validation folds\n",
        "lr = LogisticRegression()\n",
        "cross_val_score(lr, X_train_ss, y_train, cv=5).mean()"
      ],
      "execution_count": 65,
      "outputs": [
        {
          "output_type": "execute_result",
          "data": {
            "text/plain": [
              "0.6366666666666667"
            ]
          },
          "metadata": {
            "tags": []
          },
          "execution_count": 65
        }
      ]
    },
    {
      "cell_type": "code",
      "metadata": {
        "id": "cwVBvd7Sr9Jb",
        "outputId": "7fa45d31-b3a7-4b51-ce3f-24588aa8ffdc",
        "colab": {
          "base_uri": "https://localhost:8080/",
          "height": 142
        }
      },
      "source": [
        "#create a confusion matrix with cross_val_predict\n",
        "predictions = cross_val_predict(lr, X_train_ss, y_train, cv=5)\n",
        "confusion = confusion_matrix(y_test,predictions)\n",
        "pd.DataFrame(confusion,\n",
        "             columns=sorted(y_train.unique()),\n",
        "             index=sorted(y_train.unique()))"
      ],
      "execution_count": 66,
      "outputs": [
        {
          "output_type": "execute_result",
          "data": {
            "text/html": [
              "<div>\n",
              "<style scoped>\n",
              "    .dataframe tbody tr th:only-of-type {\n",
              "        vertical-align: middle;\n",
              "    }\n",
              "\n",
              "    .dataframe tbody tr th {\n",
              "        vertical-align: top;\n",
              "    }\n",
              "\n",
              "    .dataframe thead th {\n",
              "        text-align: right;\n",
              "    }\n",
              "</style>\n",
              "<table border=\"1\" class=\"dataframe\">\n",
              "  <thead>\n",
              "    <tr style=\"text-align: right;\">\n",
              "      <th></th>\n",
              "      <th>NON-VIOLENT</th>\n",
              "      <th>NOT_CRIMINAL</th>\n",
              "      <th>VIOLENT_CRIME</th>\n",
              "    </tr>\n",
              "  </thead>\n",
              "  <tbody>\n",
              "    <tr>\n",
              "      <th>NON-VIOLENT</th>\n",
              "      <td>379</td>\n",
              "      <td>45</td>\n",
              "      <td>1312</td>\n",
              "    </tr>\n",
              "    <tr>\n",
              "      <th>NOT_CRIMINAL</th>\n",
              "      <td>435</td>\n",
              "      <td>49</td>\n",
              "      <td>1442</td>\n",
              "    </tr>\n",
              "    <tr>\n",
              "      <th>VIOLENT_CRIME</th>\n",
              "      <td>1097</td>\n",
              "      <td>127</td>\n",
              "      <td>4114</td>\n",
              "    </tr>\n",
              "  </tbody>\n",
              "</table>\n",
              "</div>"
            ],
            "text/plain": [
              "               NON-VIOLENT  NOT_CRIMINAL  VIOLENT_CRIME\n",
              "NON-VIOLENT            379            45           1312\n",
              "NOT_CRIMINAL           435            49           1442\n",
              "VIOLENT_CRIME         1097           127           4114"
            ]
          },
          "metadata": {
            "tags": []
          },
          "execution_count": 66
        }
      ]
    },
    {
      "cell_type": "markdown",
      "metadata": {
        "id": "tQlScS8pE08c"
      },
      "source": [
        "#7. Find the optimal hyperparameters (optimal regularization) to predict your crime categories using GridSearchCV."
      ]
    },
    {
      "cell_type": "code",
      "metadata": {
        "id": "nE_fA8qxET0M"
      },
      "source": [
        "#create a hyperparameter dictionary for a logistic regression\n",
        "hparams={'penalty':['l1','l2'] , 'solver':['liblinear'] , 'C':np.logspace(-3,0,50)}"
      ],
      "execution_count": 68,
      "outputs": []
    },
    {
      "cell_type": "code",
      "metadata": {
        "id": "iD6DkwypFP1l"
      },
      "source": [
        "#create a gridsearch object using LogisticRegression() and the dictionary you created above\n",
        "crime_gs=GridSearchCV(LogisticRegression() , hparams , n_jobs=-1 , cv=5)"
      ],
      "execution_count": 69,
      "outputs": []
    },
    {
      "cell_type": "code",
      "metadata": {
        "id": "DdFLBksQFa6K",
        "outputId": "1ec3aad5-fa98-4235-e012-ffa9f1393a84",
        "colab": {
          "base_uri": "https://localhost:8080/",
          "height": 340
        }
      },
      "source": [
        "#fit the gridsearch object on your training data\n",
        "crime_gs.fit(X_train_ss,y_train)"
      ],
      "execution_count": 70,
      "outputs": [
        {
          "output_type": "execute_result",
          "data": {
            "text/plain": [
              "GridSearchCV(cv=5, error_score=nan,\n",
              "             estimator=LogisticRegression(C=1.0, class_weight=None, dual=False,\n",
              "                                          fit_intercept=True,\n",
              "                                          intercept_scaling=1, l1_ratio=None,\n",
              "                                          max_iter=100, multi_class='auto',\n",
              "                                          n_jobs=None, penalty='l2',\n",
              "                                          random_state=None, solver='lbfgs',\n",
              "                                          tol=0.0001, verbose=0,\n",
              "                                          warm_start=False),\n",
              "             iid='deprecated', n_jobs=-1,\n",
              "             param_grid={'C': array([0.001     , 0.0011514 , 0.00...\n",
              "       0.03393222, 0.0390694 , 0.04498433, 0.05179475, 0.05963623,\n",
              "       0.06866488, 0.07906043, 0.09102982, 0.10481131, 0.12067926,\n",
              "       0.13894955, 0.15998587, 0.184207  , 0.21209509, 0.24420531,\n",
              "       0.28117687, 0.32374575, 0.37275937, 0.42919343, 0.49417134,\n",
              "       0.5689866 , 0.65512856, 0.75431201, 0.86851137, 1.        ]),\n",
              "                         'penalty': ['l1', 'l2'], 'solver': ['liblinear']},\n",
              "             pre_dispatch='2*n_jobs', refit=True, return_train_score=False,\n",
              "             scoring=None, verbose=0)"
            ]
          },
          "metadata": {
            "tags": []
          },
          "execution_count": 70
        }
      ]
    },
    {
      "cell_type": "code",
      "metadata": {
        "id": "rnU15dGHFlgB",
        "outputId": "997c901e-323c-4e66-e584-6eb6e7ae17b5",
        "colab": {
          "base_uri": "https://localhost:8080/",
          "height": 34
        }
      },
      "source": [
        "#print out the best parameters\n",
        "crime_gs.best_params_"
      ],
      "execution_count": 71,
      "outputs": [
        {
          "output_type": "execute_result",
          "data": {
            "text/plain": [
              "{'C': 0.09102981779915217, 'penalty': 'l1', 'solver': 'liblinear'}"
            ]
          },
          "metadata": {
            "tags": []
          },
          "execution_count": 71
        }
      ]
    },
    {
      "cell_type": "code",
      "metadata": {
        "id": "U_n49VR8FoKr",
        "outputId": "937b9c85-90b8-4398-f062-e1af9710db33",
        "colab": {
          "base_uri": "https://localhost:8080/",
          "height": 34
        }
      },
      "source": [
        "#print out the best mean cross-validated score\n",
        "crime_gs.best_score_"
      ],
      "execution_count": 72,
      "outputs": [
        {
          "output_type": "execute_result",
          "data": {
            "text/plain": [
              "0.6373333333333333"
            ]
          },
          "metadata": {
            "tags": []
          },
          "execution_count": 72
        }
      ]
    },
    {
      "cell_type": "code",
      "metadata": {
        "id": "zJfzGVn1Fs5V"
      },
      "source": [
        "#assign your best estimator to the variable 'best_logreg'\n",
        "best_lr=crime_gs.best_estimator_"
      ],
      "execution_count": 73,
      "outputs": []
    },
    {
      "cell_type": "code",
      "metadata": {
        "id": "qlMO57dfFyR7",
        "outputId": "9fb2d9cb-697e-4f04-9c45-bfcfb162e93e",
        "colab": {
          "base_uri": "https://localhost:8080/",
          "height": 34
        }
      },
      "source": [
        "#score your model on your testing data\n",
        "best_lr.score(X_test_ss,y_test)"
      ],
      "execution_count": 74,
      "outputs": [
        {
          "output_type": "execute_result",
          "data": {
            "text/plain": [
              "0.629"
            ]
          },
          "metadata": {
            "tags": []
          },
          "execution_count": 74
        }
      ]
    },
    {
      "cell_type": "markdown",
      "metadata": {
        "id": "4BXnHVntGBQM"
      },
      "source": [
        "#8. Print out a classification report for your best_logreg model"
      ]
    },
    {
      "cell_type": "code",
      "metadata": {
        "id": "NFHfpQ5rF9ZS",
        "outputId": "d4589c0f-ad82-431c-dcd7-16de93865392",
        "colab": {
          "base_uri": "https://localhost:8080/",
          "height": 187
        }
      },
      "source": [
        "#use your test data to create your classification report\n",
        "predictions = best_lr.predict(X_test_ss)\n",
        "print(classification_report(y_test, predictions))"
      ],
      "execution_count": 75,
      "outputs": [
        {
          "output_type": "stream",
          "text": [
            "               precision    recall  f1-score   support\n",
            "\n",
            "  NON-VIOLENT       0.45      0.51      0.48      1736\n",
            " NOT_CRIMINAL       0.62      0.07      0.12      1926\n",
            "VIOLENT_CRIME       0.68      0.87      0.76      5338\n",
            "\n",
            "     accuracy                           0.63      9000\n",
            "    macro avg       0.59      0.48      0.46      9000\n",
            " weighted avg       0.62      0.63      0.57      9000\n",
            "\n"
          ],
          "name": "stdout"
        }
      ]
    }
  ]
}